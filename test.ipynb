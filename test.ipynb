{
 "cells": [
  {
   "cell_type": "markdown",
   "metadata": {},
   "source": [
    "### Import "
   ]
  },
  {
   "cell_type": "code",
   "execution_count": 34,
   "metadata": {},
   "outputs": [],
   "source": [
    "from diffusers import StableDiffusionXLAdapterPipeline, T2IAdapter, EulerAncestralDiscreteScheduler, AutoencoderKL\n",
    "from diffusers.utils import load_image, make_image_grid\n",
    "from controlnet_aux.lineart import LineartDetector\n",
    "from controlnet_aux.pidi import PidiNetDetector\n",
    "from controlnet_aux.canny import CannyDetector\n",
    "from controlnet_aux import OpenposeDetector\n",
    "from controlnet_aux.midas import MidasDetector\n",
    "from controlnet_aux import ZoeDetector\n",
    "\n",
    "import torch\n",
    "import numpy as np\n",
    "from PIL import Image\n",
    "#from IPython.display import Image\n",
    "# Setting device\n",
    "#device = torch.device(\"cuda\") if torch.cuda.is_available() else torch.device(\"cpu\")\n",
    "device = torch.device(\"cuda\") if torch.cuda.is_available() else torch.device(\"mps\")\n"
   ]
  },
  {
   "cell_type": "markdown",
   "metadata": {},
   "source": [
    "## Sketch"
   ]
  },
  {
   "cell_type": "code",
   "execution_count": 2,
   "metadata": {},
   "outputs": [
    {
     "data": {
      "application/vnd.jupyter.widget-view+json": {
       "model_id": "cd54c4bb9c0f48c69805d3a7c6f8f7fb",
       "version_major": 2,
       "version_minor": 0
      },
      "text/plain": [
       "Loading pipeline components...:   0%|          | 0/7 [00:00<?, ?it/s]"
      ]
     },
     "metadata": {},
     "output_type": "display_data"
    }
   ],
   "source": [
    "# load adapter\n",
    "adapter = T2IAdapter.from_pretrained(\"TencentARC/t2i-adapter-sketch-sdxl-1.0\", \n",
    "                                     torch_dtype=torch.float16, \n",
    "                                     varient=\"fp16\").to(device)\n",
    "\n",
    "# load euler_a scheduler\n",
    "model_id = 'stabilityai/stable-diffusion-xl-base-1.0'\n",
    "euler_a = EulerAncestralDiscreteScheduler.from_pretrained(model_id, \n",
    "                                                          subfolder=\"scheduler\")\n",
    "\n",
    "vae=AutoencoderKL.from_pretrained(\"madebyollin/sdxl-vae-fp16-fix\", \n",
    "                                  torch_dtype=torch.float16)\n",
    "\n",
    "pipe = StableDiffusionXLAdapterPipeline.from_pretrained(model_id, \n",
    "                                                        vae=vae, \n",
    "                                                        adapter=adapter, \n",
    "                                                        scheduler=euler_a, \n",
    "                                                        torch_dtype=torch.float16, \n",
    "                                                        variant=\"fp16\", \n",
    ").to(device)\n",
    "\n",
    "# due to using Mac, I don't enable xformers\n",
    "#pipe.enable_xformers_memory_efficient_attention()\n",
    "\n",
    "pidinet = PidiNetDetector.from_pretrained(\"lllyasviel/Annotators\").to(device)"
   ]
  },
  {
   "cell_type": "markdown",
   "metadata": {},
   "source": [
    "### Conditional Image"
   ]
  },
  {
   "cell_type": "code",
   "execution_count": 33,
   "metadata": {},
   "outputs": [],
   "source": [
    "url = \"https://huggingface.co/Adapter/t2iadapter/resolve/main/figs_SDXLV1.0/org_sketch.png\"\n",
    "image = load_image(url)\n",
    "image = pidinet(image, detect_resolution=1024, \n",
    "                image_resolution=1024, \n",
    "                apply_filter=True\n",
    ")"
   ]
  },
  {
   "cell_type": "markdown",
   "metadata": {},
   "source": [
    "### Generate images"
   ]
  },
  {
   "cell_type": "code",
   "execution_count": 4,
   "metadata": {},
   "outputs": [
    {
     "data": {
      "application/vnd.jupyter.widget-view+json": {
       "model_id": "0c3a2d97cdc043b78d34cb23c746b580",
       "version_major": 2,
       "version_minor": 0
      },
      "text/plain": [
       "  0%|          | 0/30 [00:00<?, ?it/s]"
      ]
     },
     "metadata": {},
     "output_type": "display_data"
    }
   ],
   "source": [
    "prompt = \"a robot, mount fuji in the background, 4k photo, highly detailed\"\n",
    "negative_prompt = \"extra digit, fewer digits, cropped, worst quality, low quality, glitch, deformed, mutated, ugly, disfigured\"\n",
    "\n",
    "gen_images = pipe(\n",
    "    prompt=prompt,\n",
    "    negative_prompt=negative_prompt,\n",
    "    image=image,\n",
    "    num_inference_steps=30,\n",
    "    adapter_conditioning_scale=0.9,\n",
    "    guidance_scale=7.5, \n",
    ").images[0]\n",
    "gen_images.save('out_sketch.png')"
   ]
  },
  {
   "cell_type": "markdown",
   "metadata": {},
   "source": [
    "## Lineart"
   ]
  },
  {
   "cell_type": "code",
   "execution_count": 5,
   "metadata": {},
   "outputs": [
    {
     "data": {
      "application/vnd.jupyter.widget-view+json": {
       "model_id": "e8afad50a1e4473fa89ecc5c2939d714",
       "version_major": 2,
       "version_minor": 0
      },
      "text/plain": [
       "Loading pipeline components...:   0%|          | 0/7 [00:00<?, ?it/s]"
      ]
     },
     "metadata": {},
     "output_type": "display_data"
    }
   ],
   "source": [
    "# load adapter\n",
    "adapter = T2IAdapter.from_pretrained(\"TencentARC/t2i-adapter-lineart-sdxl-1.0\", \n",
    "                                     torch_dtype=torch.float16, \n",
    "                                     varient=\"fp16\").to(device)\n",
    "\n",
    "# load euler_a scheduler\n",
    "model_id = 'stabilityai/stable-diffusion-xl-base-1.0'\n",
    "\n",
    "euler_a = EulerAncestralDiscreteScheduler.from_pretrained(model_id, \n",
    "                                                          subfolder=\"scheduler\")\n",
    "\n",
    "vae=AutoencoderKL.from_pretrained(\"madebyollin/sdxl-vae-fp16-fix\", \n",
    "                                  torch_dtype=torch.float16)\n",
    "\n",
    "pipe = StableDiffusionXLAdapterPipeline.from_pretrained(model_id, \n",
    "                                                        vae=vae, \n",
    "                                                        adapter=adapter, \n",
    "                                                        scheduler=euler_a, \n",
    "                                                        torch_dtype=torch.float16, \n",
    "                                                        variant=\"fp16\",).to(device)\n",
    "\n",
    "# due to using Mac, I don't enable xformers\n",
    "#pipe.enable_xformers_memory_efficient_attention()\n",
    "\n",
    "line_detector = LineartDetector.from_pretrained(\"lllyasviel/Annotators\").to(device)"
   ]
  },
  {
   "cell_type": "markdown",
   "metadata": {},
   "source": [
    "### Conditional Image"
   ]
  },
  {
   "cell_type": "code",
   "execution_count": 6,
   "metadata": {},
   "outputs": [],
   "source": [
    "url = \"https://huggingface.co/Adapter/t2iadapter/resolve/main/figs_SDXLV1.0/org_lin.jpg\"\n",
    "image = load_image(url)\n",
    "image = line_detector(image, \n",
    "                      detect_resolution=384, \n",
    "                      image_resolution=1024)"
   ]
  },
  {
   "cell_type": "markdown",
   "metadata": {},
   "source": [
    "### Generate images"
   ]
  },
  {
   "cell_type": "code",
   "execution_count": 7,
   "metadata": {},
   "outputs": [
    {
     "data": {
      "application/vnd.jupyter.widget-view+json": {
       "model_id": "69472db7a9a046d887c73874d47ba151",
       "version_major": 2,
       "version_minor": 0
      },
      "text/plain": [
       "  0%|          | 0/30 [00:00<?, ?it/s]"
      ]
     },
     "metadata": {},
     "output_type": "display_data"
    }
   ],
   "source": [
    "prompt = \"Ice dragon roar, 4k photo\"\n",
    "negative_prompt = \"anime, cartoon, graphic, text, painting, crayon, graphite, abstract, glitch, deformed, mutated, ugly, disfigured\"\n",
    "gen_images = pipe(\n",
    "    prompt=prompt,\n",
    "    negative_prompt=negative_prompt,\n",
    "    image=image,\n",
    "    num_inference_steps=30,\n",
    "    adapter_conditioning_scale=0.8,\n",
    "    guidance_scale=7.5, \n",
    ").images[0]\n",
    "gen_images.save('out_lineart.png')"
   ]
  },
  {
   "cell_type": "markdown",
   "metadata": {},
   "source": [
    "## Canny"
   ]
  },
  {
   "cell_type": "code",
   "execution_count": 27,
   "metadata": {},
   "outputs": [
    {
     "data": {
      "application/vnd.jupyter.widget-view+json": {
       "model_id": "e705a1bb584a4341bbbe22aa82c98e7c",
       "version_major": 2,
       "version_minor": 0
      },
      "text/plain": [
       "Loading pipeline components...:   0%|          | 0/7 [00:00<?, ?it/s]"
      ]
     },
     "metadata": {},
     "output_type": "display_data"
    }
   ],
   "source": [
    "# load adapter\n",
    "adapter = T2IAdapter.from_pretrained(\"TencentARC/t2i-adapter-canny-sdxl-1.0\", \n",
    "                                     torch_dtype=torch.float16, \n",
    "                                     varient=\"fp16\").to(device)\n",
    "\n",
    "# load euler_a scheduler\n",
    "model_id = 'stabilityai/stable-diffusion-xl-base-1.0'\n",
    "\n",
    "euler_a = EulerAncestralDiscreteScheduler.from_pretrained(model_id, \n",
    "                                                          subfolder=\"scheduler\")\n",
    "vae=AutoencoderKL.from_pretrained(\"madebyollin/sdxl-vae-fp16-fix\", \n",
    "                                  torch_dtype=torch.float16)\n",
    "pipe = StableDiffusionXLAdapterPipeline.from_pretrained(model_id, \n",
    "                                                        vae=vae, \n",
    "                                                        adapter=adapter, \n",
    "                                                        scheduler=euler_a, \n",
    "                                                        torch_dtype=torch.float16, \n",
    "                                                        variant=\"fp16\", ).to(device)\n",
    "\n",
    "# due to using Mac, I don't enable xformers\n",
    "#pipe.enable_xformers_memory_efficient_attention()\n",
    "\n",
    "canny_detector = CannyDetector()"
   ]
  },
  {
   "cell_type": "markdown",
   "metadata": {},
   "source": [
    "### Conditional Image"
   ]
  },
  {
   "cell_type": "code",
   "execution_count": 28,
   "metadata": {},
   "outputs": [],
   "source": [
    "url = \"https://huggingface.co/Adapter/t2iadapter/resolve/main/figs_SDXLV1.0/org_canny.jpg\"\n",
    "image = load_image(url)\n",
    "\n",
    "# Detect the canny map in low resolution to avoid high-frequency details\n",
    "image = canny_detector(image, \n",
    "                       detect_resolution=384, \n",
    "                       image_resolution=1024)#.resize((1024, 1024))\n"
   ]
  },
  {
   "cell_type": "markdown",
   "metadata": {},
   "source": [
    "### Generate images"
   ]
  },
  {
   "cell_type": "code",
   "execution_count": 29,
   "metadata": {},
   "outputs": [
    {
     "data": {
      "application/vnd.jupyter.widget-view+json": {
       "model_id": "5eef58f22f9844e19a6e87c907fb0a35",
       "version_major": 2,
       "version_minor": 0
      },
      "text/plain": [
       "  0%|          | 0/30 [00:00<?, ?it/s]"
      ]
     },
     "metadata": {},
     "output_type": "display_data"
    }
   ],
   "source": [
    "prompt = \"Mystical fairy in real, magic, 4k picture, high quality\"\n",
    "negative_prompt = \"extra digit, fewer digits, cropped, worst quality, low quality, glitch, deformed, mutated, ugly, disfigured\"\n",
    "\n",
    "gen_images = pipe(\n",
    "  prompt=prompt,\n",
    "  negative_prompt=negative_prompt,\n",
    "  image=image,\n",
    "  num_inference_steps=30,\n",
    "  guidance_scale=7.5, \n",
    "  adapter_conditioning_scale=0.8, \n",
    "  #adapter_conditioning_factor=1\n",
    ").images[0]\n",
    "gen_images.save('out_canny.png')\n"
   ]
  },
  {
   "cell_type": "markdown",
   "metadata": {},
   "source": [
    "## OpenPose"
   ]
  },
  {
   "cell_type": "code",
   "execution_count": 11,
   "metadata": {},
   "outputs": [
    {
     "data": {
      "application/vnd.jupyter.widget-view+json": {
       "model_id": "e7fc3fcf8f9d4c158f7e17af5f7bbeeb",
       "version_major": 2,
       "version_minor": 0
      },
      "text/plain": [
       "Loading pipeline components...:   0%|          | 0/7 [00:00<?, ?it/s]"
      ]
     },
     "metadata": {},
     "output_type": "display_data"
    }
   ],
   "source": [
    "# load adapter\n",
    "adapter = T2IAdapter.from_pretrained(\"TencentARC/t2i-adapter-openpose-sdxl-1.0\", \n",
    "                                     torch_dtype=torch.float16).to(device)\n",
    "\n",
    "# load euler_a scheduler\n",
    "model_id = 'stabilityai/stable-diffusion-xl-base-1.0'\n",
    "\n",
    "euler_a = EulerAncestralDiscreteScheduler.from_pretrained(model_id, \n",
    "                                                          subfolder=\"scheduler\")\n",
    "\n",
    "vae=AutoencoderKL.from_pretrained(\"madebyollin/sdxl-vae-fp16-fix\", \n",
    "                                  torch_dtype=torch.float16)\n",
    "\n",
    "pipe = StableDiffusionXLAdapterPipeline.from_pretrained(model_id, \n",
    "                                                        vae=vae, \n",
    "                                                        adapter=adapter, \n",
    "                                                        scheduler=euler_a, \n",
    "                                                        torch_dtype=torch.float16, \n",
    "                                                        variant=\"fp16\", ).to(device)\n",
    "# due to using Mac, I don't enable xformers\n",
    "#pipe.enable_xformers_memory_efficient_attention()\n",
    "\n",
    "open_pose = OpenposeDetector.from_pretrained(\"lllyasviel/Annotators\")"
   ]
  },
  {
   "cell_type": "markdown",
   "metadata": {},
   "source": [
    "### Conditional Image"
   ]
  },
  {
   "cell_type": "code",
   "execution_count": 12,
   "metadata": {},
   "outputs": [],
   "source": [
    "from PIL import Image\n",
    "url = \"https://huggingface.co/Adapter/t2iadapter/resolve/main/people.jpg\"\n",
    "image = load_image(url)\n",
    "\n",
    "image = open_pose(image, \n",
    "                  detect_resolution=512, \n",
    "                  image_resolution=1024)\n",
    "\n",
    "image = np.array(image)[:, :, ::-1]   \n",
    "        \n",
    "image = Image.fromarray(np.uint8(image)) "
   ]
  },
  {
   "cell_type": "markdown",
   "metadata": {},
   "source": [
    "### Generate images"
   ]
  },
  {
   "cell_type": "code",
   "execution_count": 13,
   "metadata": {},
   "outputs": [
    {
     "data": {
      "application/vnd.jupyter.widget-view+json": {
       "model_id": "585ee57025d04690a539f26182e62885",
       "version_major": 2,
       "version_minor": 0
      },
      "text/plain": [
       "  0%|          | 0/30 [00:00<?, ?it/s]"
      ]
     },
     "metadata": {},
     "output_type": "display_data"
    }
   ],
   "source": [
    "prompt = \"A couple, 4k photo, highly detailed\"\n",
    "negative_prompt = \"anime, cartoon, graphic, text, painting, crayon, graphite, abstract, glitch, deformed, mutated, ugly, disfigured\"\n",
    "\n",
    "gen_images = pipe(\n",
    "  prompt=prompt,\n",
    "  negative_prompt=negative_prompt,\n",
    "  image=image,\n",
    "  num_inference_steps=30,\n",
    "  adapter_conditioning_scale=1,\n",
    "  guidance_scale=7.5,  \n",
    ").images[0]\n",
    "gen_images.save('out_openpose.png')"
   ]
  },
  {
   "cell_type": "markdown",
   "metadata": {},
   "source": [
    "## Depth-MiDaS"
   ]
  },
  {
   "cell_type": "code",
   "execution_count": 14,
   "metadata": {},
   "outputs": [
    {
     "data": {
      "application/vnd.jupyter.widget-view+json": {
       "model_id": "da8d7918751c4905a42bc37d81a4ce4a",
       "version_major": 2,
       "version_minor": 0
      },
      "text/plain": [
       "Loading pipeline components...:   0%|          | 0/7 [00:00<?, ?it/s]"
      ]
     },
     "metadata": {},
     "output_type": "display_data"
    },
    {
     "data": {
      "application/vnd.jupyter.widget-view+json": {
       "model_id": "092fc49ed1e14640a43a0cdb3923c8cf",
       "version_major": 2,
       "version_minor": 0
      },
      "text/plain": [
       "Downloading dpt_large_384.pt:   0%|          | 0.00/1.38G [00:00<?, ?B/s]"
      ]
     },
     "metadata": {},
     "output_type": "display_data"
    }
   ],
   "source": [
    "# load adapter\n",
    "adapter = T2IAdapter.from_pretrained(\"TencentARC/t2i-adapter-depth-midas-sdxl-1.0\", \n",
    "                                     torch_dtype=torch.float16,\n",
    "                                     varient=\"fp16\").to(device)\n",
    "\n",
    "# load euler_a scheduler\n",
    "model_id = 'stabilityai/stable-diffusion-xl-base-1.0'\n",
    "\n",
    "euler_a = EulerAncestralDiscreteScheduler.from_pretrained(model_id, \n",
    "                                                          subfolder=\"scheduler\")\n",
    "\n",
    "vae=AutoencoderKL.from_pretrained(\"madebyollin/sdxl-vae-fp16-fix\", \n",
    "                                  torch_dtype=torch.float16)\n",
    "\n",
    "pipe = StableDiffusionXLAdapterPipeline.from_pretrained(model_id, \n",
    "                                                        vae=vae, \n",
    "                                                        adapter=adapter, \n",
    "                                                        scheduler=euler_a, \n",
    "                                                        torch_dtype=torch.float16, \n",
    "                                                        variant=\"fp16\", ).to(device)\n",
    "# due to using Mac, I don't enable xformers\n",
    "#pipe.enable_xformers_memory_efficient_attention()\n",
    "\n",
    "midas_depth = MidasDetector.from_pretrained(\"valhalla/t2iadapter-aux-models\", \n",
    "                                            filename=\"dpt_large_384.pt\", \n",
    "                                            model_type=\"dpt_large\").to(device)"
   ]
  },
  {
   "cell_type": "markdown",
   "metadata": {},
   "source": [
    "### Conditional Image"
   ]
  },
  {
   "cell_type": "code",
   "execution_count": 15,
   "metadata": {},
   "outputs": [],
   "source": [
    "url = \"https://huggingface.co/Adapter/t2iadapter/resolve/main/figs_SDXLV1.0/org_mid.jpg\"\n",
    "image = load_image(url)\n",
    "image = midas_depth(image, \n",
    "                    detect_resolution=512, \n",
    "                    image_resolution=1024)"
   ]
  },
  {
   "cell_type": "markdown",
   "metadata": {},
   "source": [
    "### Generate images"
   ]
  },
  {
   "cell_type": "code",
   "execution_count": 16,
   "metadata": {},
   "outputs": [
    {
     "data": {
      "application/vnd.jupyter.widget-view+json": {
       "model_id": "5cd730ade9a04435bdfb16620b3c142b",
       "version_major": 2,
       "version_minor": 0
      },
      "text/plain": [
       "  0%|          | 0/30 [00:00<?, ?it/s]"
      ]
     },
     "metadata": {},
     "output_type": "display_data"
    }
   ],
   "source": [
    "prompt = \"A photo of a room, 4k photo, highly detailed\"\n",
    "negative_prompt = \"anime, cartoon, graphic, text, painting, crayon, graphite, abstract, glitch, deformed, mutated, ugly, disfigured\"\n",
    "\n",
    "gen_images = pipe(\n",
    "  prompt=prompt,\n",
    "  negative_prompt=negative_prompt,\n",
    "  image=image,\n",
    "  num_inference_steps=30,\n",
    "  adapter_conditioning_scale=1,\n",
    "  guidance_scale=7.5,  \n",
    ").images[0]\n",
    "gen_images.save('out_midas.png')"
   ]
  },
  {
   "cell_type": "markdown",
   "metadata": {},
   "source": [
    "## Depth-Zoe"
   ]
  },
  {
   "cell_type": "code",
   "execution_count": 43,
   "metadata": {},
   "outputs": [
    {
     "data": {
      "application/vnd.jupyter.widget-view+json": {
       "model_id": "f35283e8c8464209ae005e964413eeaf",
       "version_major": 2,
       "version_minor": 0
      },
      "text/plain": [
       "Loading pipeline components...:   0%|          | 0/7 [00:00<?, ?it/s]"
      ]
     },
     "metadata": {},
     "output_type": "display_data"
    },
    {
     "name": "stderr",
     "output_type": "stream",
     "text": [
      "/Users/linh/miniconda3/envs/a/lib/python3.10/site-packages/torch/nn/modules/transformer.py:282: UserWarning: enable_nested_tensor is True, but self.use_nested_tensor is False because encoder_layer.self_attn.batch_first was not True(use batch_first for better inference performance)\n",
      "  warnings.warn(f\"enable_nested_tensor is True, but self.use_nested_tensor is False because {why_not_sparsity_fast_path}\")\n"
     ]
    },
    {
     "name": "stdout",
     "output_type": "stream",
     "text": [
      "Using pretrained resource url::https://github.com/isl-org/ZoeDepth/releases/download/v1.0/ZoeD_M12_NK.pt\n"
     ]
    },
    {
     "data": {
      "text/html": [
       "<pre style=\"white-space:pre;overflow-x:auto;line-height:normal;font-family:Menlo,'DejaVu Sans Mono',consolas,'Courier New',monospace\"><span style=\"color: #800000; text-decoration-color: #800000\">╭─────────────────────────────── </span><span style=\"color: #800000; text-decoration-color: #800000; font-weight: bold\">Traceback </span><span style=\"color: #bf7f7f; text-decoration-color: #bf7f7f; font-weight: bold\">(most recent call last)</span><span style=\"color: #800000; text-decoration-color: #800000\"> ────────────────────────────────╮</span>\n",
       "<span style=\"color: #800000; text-decoration-color: #800000\">│</span> in <span style=\"color: #00ff00; text-decoration-color: #00ff00\">&lt;module&gt;</span>:<span style=\"color: #0000ff; text-decoration-color: #0000ff\">23</span>                                                                                   <span style=\"color: #800000; text-decoration-color: #800000\">│</span>\n",
       "<span style=\"color: #800000; text-decoration-color: #800000\">│</span>                                                                                                  <span style=\"color: #800000; text-decoration-color: #800000\">│</span>\n",
       "<span style=\"color: #800000; text-decoration-color: #800000\">│</span>   <span style=\"color: #7f7f7f; text-decoration-color: #7f7f7f\">20 # due to using Mac, I don't enable xformers</span>                                                 <span style=\"color: #800000; text-decoration-color: #800000\">│</span>\n",
       "<span style=\"color: #800000; text-decoration-color: #800000\">│</span>   <span style=\"color: #7f7f7f; text-decoration-color: #7f7f7f\">21 #pipe.enable_xformers_memory_efficient_attention()</span>                                          <span style=\"color: #800000; text-decoration-color: #800000\">│</span>\n",
       "<span style=\"color: #800000; text-decoration-color: #800000\">│</span>   <span style=\"color: #7f7f7f; text-decoration-color: #7f7f7f\">22 </span>                                                                                            <span style=\"color: #800000; text-decoration-color: #800000\">│</span>\n",
       "<span style=\"color: #800000; text-decoration-color: #800000\">│</span> <span style=\"color: #800000; text-decoration-color: #800000\">❱ </span>23 zoe_depth = ZoeDetector.from_pretrained(<span style=\"color: #808000; text-decoration-color: #808000\">\"valhalla/t2iadapter-aux-models\"</span>,                   <span style=\"color: #800000; text-decoration-color: #800000\">│</span>\n",
       "<span style=\"color: #800000; text-decoration-color: #800000\">│</span>   <span style=\"color: #7f7f7f; text-decoration-color: #7f7f7f\">24 </span><span style=\"color: #7f7f7f; text-decoration-color: #7f7f7f\">│   │   │   │   │   │   │   │   │   │   </span><span style=\"color: #7f7f7f; text-decoration-color: #7f7f7f\">#\"lllyasviel/Annotators\",</span>                           <span style=\"color: #800000; text-decoration-color: #800000\">│</span>\n",
       "<span style=\"color: #800000; text-decoration-color: #800000\">│</span>   <span style=\"color: #7f7f7f; text-decoration-color: #7f7f7f\">25 </span><span style=\"color: #7f7f7f; text-decoration-color: #7f7f7f\">│   │   │   │   │   │   │   │   │   │   </span><span style=\"color: #7f7f7f; text-decoration-color: #7f7f7f\">#filename=\"ZoeD_M12_N.pt\", </span>                         <span style=\"color: #800000; text-decoration-color: #800000\">│</span>\n",
       "<span style=\"color: #800000; text-decoration-color: #800000\">│</span>   <span style=\"color: #7f7f7f; text-decoration-color: #7f7f7f\">26 </span><span style=\"color: #7f7f7f; text-decoration-color: #7f7f7f\">│   │   │   │   │   │   │   │   │   │   </span><span style=\"color: #7f7f7f; text-decoration-color: #7f7f7f\">#filename=\"zoed_nk.pth\",</span>                            <span style=\"color: #800000; text-decoration-color: #800000\">│</span>\n",
       "<span style=\"color: #800000; text-decoration-color: #800000\">│</span>                                                                                                  <span style=\"color: #800000; text-decoration-color: #800000\">│</span>\n",
       "<span style=\"color: #800000; text-decoration-color: #800000\">│</span> <span style=\"color: #bfbf7f; text-decoration-color: #bfbf7f\">/Users/linh/miniconda3/envs/a/lib/python3.10/site-packages/controlnet_aux/zoe/</span><span style=\"color: #808000; text-decoration-color: #808000; font-weight: bold\">__init__.py</span>:<span style=\"color: #0000ff; text-decoration-color: #0000ff\">31</span> in  <span style=\"color: #800000; text-decoration-color: #800000\">│</span>\n",
       "<span style=\"color: #800000; text-decoration-color: #800000\">│</span> <span style=\"color: #00ff00; text-decoration-color: #00ff00\">from_pretrained</span>                                                                                  <span style=\"color: #800000; text-decoration-color: #800000\">│</span>\n",
       "<span style=\"color: #800000; text-decoration-color: #800000\">│</span>                                                                                                  <span style=\"color: #800000; text-decoration-color: #800000\">│</span>\n",
       "<span style=\"color: #800000; text-decoration-color: #800000\">│</span>   <span style=\"color: #7f7f7f; text-decoration-color: #7f7f7f\">28 </span><span style=\"color: #7f7f7f; text-decoration-color: #7f7f7f\">│   │   </span>                                                                                    <span style=\"color: #800000; text-decoration-color: #800000\">│</span>\n",
       "<span style=\"color: #800000; text-decoration-color: #800000\">│</span>   <span style=\"color: #7f7f7f; text-decoration-color: #7f7f7f\">29 </span><span style=\"color: #7f7f7f; text-decoration-color: #7f7f7f\">│   │   </span>conf = get_config(model_type, <span style=\"color: #808000; text-decoration-color: #808000\">\"infer\"</span>)                                              <span style=\"color: #800000; text-decoration-color: #800000\">│</span>\n",
       "<span style=\"color: #800000; text-decoration-color: #800000\">│</span>   <span style=\"color: #7f7f7f; text-decoration-color: #7f7f7f\">30 </span><span style=\"color: #7f7f7f; text-decoration-color: #7f7f7f\">│   │   </span>model_cls = ZoeDepth <span style=\"color: #0000ff; text-decoration-color: #0000ff\">if</span> model_type == <span style=\"color: #808000; text-decoration-color: #808000\">\"zoedepth\"</span> <span style=\"color: #0000ff; text-decoration-color: #0000ff\">else</span> ZoeDepthNK                    <span style=\"color: #800000; text-decoration-color: #800000\">│</span>\n",
       "<span style=\"color: #800000; text-decoration-color: #800000\">│</span> <span style=\"color: #800000; text-decoration-color: #800000\">❱ </span>31 <span style=\"color: #7f7f7f; text-decoration-color: #7f7f7f\">│   │   </span>model = model_cls.build_from_config(conf)                                           <span style=\"color: #800000; text-decoration-color: #800000\">│</span>\n",
       "<span style=\"color: #800000; text-decoration-color: #800000\">│</span>   <span style=\"color: #7f7f7f; text-decoration-color: #7f7f7f\">32 </span><span style=\"color: #7f7f7f; text-decoration-color: #7f7f7f\">│   │   </span>model.load_state_dict(torch.load(model_path, map_location=torch.device(<span style=\"color: #808000; text-decoration-color: #808000\">'cpu'</span>))[<span style=\"color: #808000; text-decoration-color: #808000\">'</span>    <span style=\"color: #800000; text-decoration-color: #800000\">│</span>\n",
       "<span style=\"color: #800000; text-decoration-color: #800000\">│</span>   <span style=\"color: #7f7f7f; text-decoration-color: #7f7f7f\">33 </span><span style=\"color: #7f7f7f; text-decoration-color: #7f7f7f\">│   │   </span>model.eval()                                                                        <span style=\"color: #800000; text-decoration-color: #800000\">│</span>\n",
       "<span style=\"color: #800000; text-decoration-color: #800000\">│</span>   <span style=\"color: #7f7f7f; text-decoration-color: #7f7f7f\">34 </span>                                                                                            <span style=\"color: #800000; text-decoration-color: #800000\">│</span>\n",
       "<span style=\"color: #800000; text-decoration-color: #800000\">│</span>                                                                                                  <span style=\"color: #800000; text-decoration-color: #800000\">│</span>\n",
       "<span style=\"color: #800000; text-decoration-color: #800000\">│</span> <span style=\"color: #bfbf7f; text-decoration-color: #bfbf7f\">/Users/linh/miniconda3/envs/a/lib/python3.10/site-packages/controlnet_aux/zoe/zoedepth/models/zo</span> <span style=\"color: #800000; text-decoration-color: #800000\">│</span>\n",
       "<span style=\"color: #800000; text-decoration-color: #800000\">│</span> <span style=\"color: #bfbf7f; text-decoration-color: #bfbf7f\">edepth_nk/</span><span style=\"color: #808000; text-decoration-color: #808000; font-weight: bold\">zoedepth_nk_v1.py</span>:<span style=\"color: #0000ff; text-decoration-color: #0000ff\">332</span> in <span style=\"color: #00ff00; text-decoration-color: #00ff00\">build_from_config</span>                                             <span style=\"color: #800000; text-decoration-color: #800000\">│</span>\n",
       "<span style=\"color: #800000; text-decoration-color: #800000\">│</span>                                                                                                  <span style=\"color: #800000; text-decoration-color: #800000\">│</span>\n",
       "<span style=\"color: #800000; text-decoration-color: #800000\">│</span>   <span style=\"color: #7f7f7f; text-decoration-color: #7f7f7f\">329 </span><span style=\"color: #7f7f7f; text-decoration-color: #7f7f7f\">│   </span>                                                                                       <span style=\"color: #800000; text-decoration-color: #800000\">│</span>\n",
       "<span style=\"color: #800000; text-decoration-color: #800000\">│</span>   <span style=\"color: #7f7f7f; text-decoration-color: #7f7f7f\">330 </span><span style=\"color: #7f7f7f; text-decoration-color: #7f7f7f\">│   </span><span style=\"color: #ff00ff; text-decoration-color: #ff00ff; font-weight: bold\">@staticmethod</span>                                                                          <span style=\"color: #800000; text-decoration-color: #800000\">│</span>\n",
       "<span style=\"color: #800000; text-decoration-color: #800000\">│</span>   <span style=\"color: #7f7f7f; text-decoration-color: #7f7f7f\">331 </span><span style=\"color: #7f7f7f; text-decoration-color: #7f7f7f\">│   </span><span style=\"color: #0000ff; text-decoration-color: #0000ff\">def</span> <span style=\"color: #00ff00; text-decoration-color: #00ff00\">build_from_config</span>(config):                                                         <span style=\"color: #800000; text-decoration-color: #800000\">│</span>\n",
       "<span style=\"color: #800000; text-decoration-color: #800000\">│</span> <span style=\"color: #800000; text-decoration-color: #800000\">❱ </span>332 <span style=\"color: #7f7f7f; text-decoration-color: #7f7f7f\">│   │   </span><span style=\"color: #0000ff; text-decoration-color: #0000ff\">return</span> ZoeDepthNK.build(**config)                                                  <span style=\"color: #800000; text-decoration-color: #800000\">│</span>\n",
       "<span style=\"color: #800000; text-decoration-color: #800000\">│</span>   <span style=\"color: #7f7f7f; text-decoration-color: #7f7f7f\">333 </span>                                                                                           <span style=\"color: #800000; text-decoration-color: #800000\">│</span>\n",
       "<span style=\"color: #800000; text-decoration-color: #800000\">│</span>                                                                                                  <span style=\"color: #800000; text-decoration-color: #800000\">│</span>\n",
       "<span style=\"color: #800000; text-decoration-color: #800000\">│</span> <span style=\"color: #bfbf7f; text-decoration-color: #bfbf7f\">/Users/linh/miniconda3/envs/a/lib/python3.10/site-packages/controlnet_aux/zoe/zoedepth/models/zo</span> <span style=\"color: #800000; text-decoration-color: #800000\">│</span>\n",
       "<span style=\"color: #800000; text-decoration-color: #800000\">│</span> <span style=\"color: #bfbf7f; text-decoration-color: #bfbf7f\">edepth_nk/</span><span style=\"color: #808000; text-decoration-color: #808000; font-weight: bold\">zoedepth_nk_v1.py</span>:<span style=\"color: #0000ff; text-decoration-color: #0000ff\">327</span> in <span style=\"color: #00ff00; text-decoration-color: #00ff00\">build</span>                                                         <span style=\"color: #800000; text-decoration-color: #800000\">│</span>\n",
       "<span style=\"color: #800000; text-decoration-color: #800000\">│</span>                                                                                                  <span style=\"color: #800000; text-decoration-color: #800000\">│</span>\n",
       "<span style=\"color: #800000; text-decoration-color: #800000\">│</span>   <span style=\"color: #7f7f7f; text-decoration-color: #7f7f7f\">324 </span><span style=\"color: #7f7f7f; text-decoration-color: #7f7f7f\">│   │   </span>model = ZoeDepthNK(core, **kwargs)                                                 <span style=\"color: #800000; text-decoration-color: #800000\">│</span>\n",
       "<span style=\"color: #800000; text-decoration-color: #800000\">│</span>   <span style=\"color: #7f7f7f; text-decoration-color: #7f7f7f\">325 </span><span style=\"color: #7f7f7f; text-decoration-color: #7f7f7f\">│   │   </span><span style=\"color: #0000ff; text-decoration-color: #0000ff\">if</span> pretrained_resource:                                                            <span style=\"color: #800000; text-decoration-color: #800000\">│</span>\n",
       "<span style=\"color: #800000; text-decoration-color: #800000\">│</span>   <span style=\"color: #7f7f7f; text-decoration-color: #7f7f7f\">326 </span><span style=\"color: #7f7f7f; text-decoration-color: #7f7f7f\">│   │   │   </span><span style=\"color: #0000ff; text-decoration-color: #0000ff\">assert</span> <span style=\"color: #00ffff; text-decoration-color: #00ffff\">isinstance</span>(pretrained_resource, <span style=\"color: #00ffff; text-decoration-color: #00ffff\">str</span>), <span style=\"color: #808000; text-decoration-color: #808000\">\"pretrained_resource must be a </span>   <span style=\"color: #800000; text-decoration-color: #800000\">│</span>\n",
       "<span style=\"color: #800000; text-decoration-color: #800000\">│</span> <span style=\"color: #800000; text-decoration-color: #800000\">❱ </span>327 <span style=\"color: #7f7f7f; text-decoration-color: #7f7f7f\">│   │   │   </span>model = load_state_from_resource(model, pretrained_resource)                   <span style=\"color: #800000; text-decoration-color: #800000\">│</span>\n",
       "<span style=\"color: #800000; text-decoration-color: #800000\">│</span>   <span style=\"color: #7f7f7f; text-decoration-color: #7f7f7f\">328 </span><span style=\"color: #7f7f7f; text-decoration-color: #7f7f7f\">│   │   </span><span style=\"color: #0000ff; text-decoration-color: #0000ff\">return</span> model                                                                       <span style=\"color: #800000; text-decoration-color: #800000\">│</span>\n",
       "<span style=\"color: #800000; text-decoration-color: #800000\">│</span>   <span style=\"color: #7f7f7f; text-decoration-color: #7f7f7f\">329 </span><span style=\"color: #7f7f7f; text-decoration-color: #7f7f7f\">│   </span>                                                                                       <span style=\"color: #800000; text-decoration-color: #800000\">│</span>\n",
       "<span style=\"color: #800000; text-decoration-color: #800000\">│</span>   <span style=\"color: #7f7f7f; text-decoration-color: #7f7f7f\">330 </span><span style=\"color: #7f7f7f; text-decoration-color: #7f7f7f\">│   </span><span style=\"color: #ff00ff; text-decoration-color: #ff00ff; font-weight: bold\">@staticmethod</span>                                                                          <span style=\"color: #800000; text-decoration-color: #800000\">│</span>\n",
       "<span style=\"color: #800000; text-decoration-color: #800000\">│</span>                                                                                                  <span style=\"color: #800000; text-decoration-color: #800000\">│</span>\n",
       "<span style=\"color: #800000; text-decoration-color: #800000\">│</span> <span style=\"color: #bfbf7f; text-decoration-color: #bfbf7f\">/Users/linh/miniconda3/envs/a/lib/python3.10/site-packages/controlnet_aux/zoe/zoedepth/models/</span><span style=\"color: #808000; text-decoration-color: #808000; font-weight: bold\">mo</span> <span style=\"color: #800000; text-decoration-color: #800000\">│</span>\n",
       "<span style=\"color: #800000; text-decoration-color: #800000\">│</span> <span style=\"color: #808000; text-decoration-color: #808000; font-weight: bold\">del_io.py</span>:<span style=\"color: #0000ff; text-decoration-color: #0000ff\">84</span> in <span style=\"color: #00ff00; text-decoration-color: #00ff00\">load_state_from_resource</span>                                                         <span style=\"color: #800000; text-decoration-color: #800000\">│</span>\n",
       "<span style=\"color: #800000; text-decoration-color: #800000\">│</span>                                                                                                  <span style=\"color: #800000; text-decoration-color: #800000\">│</span>\n",
       "<span style=\"color: #800000; text-decoration-color: #800000\">│</span>   <span style=\"color: #7f7f7f; text-decoration-color: #7f7f7f\">81 </span><span style=\"color: #7f7f7f; text-decoration-color: #7f7f7f\">│   </span>                                                                                        <span style=\"color: #800000; text-decoration-color: #800000\">│</span>\n",
       "<span style=\"color: #800000; text-decoration-color: #800000\">│</span>   <span style=\"color: #7f7f7f; text-decoration-color: #7f7f7f\">82 </span><span style=\"color: #7f7f7f; text-decoration-color: #7f7f7f\">│   </span><span style=\"color: #0000ff; text-decoration-color: #0000ff\">if</span> resource.startswith(<span style=\"color: #808000; text-decoration-color: #808000\">'url::'</span>):                                                        <span style=\"color: #800000; text-decoration-color: #800000\">│</span>\n",
       "<span style=\"color: #800000; text-decoration-color: #800000\">│</span>   <span style=\"color: #7f7f7f; text-decoration-color: #7f7f7f\">83 </span><span style=\"color: #7f7f7f; text-decoration-color: #7f7f7f\">│   │   </span>url = resource.split(<span style=\"color: #808000; text-decoration-color: #808000\">'url::'</span>)[<span style=\"color: #0000ff; text-decoration-color: #0000ff\">1</span>]                                                    <span style=\"color: #800000; text-decoration-color: #800000\">│</span>\n",
       "<span style=\"color: #800000; text-decoration-color: #800000\">│</span> <span style=\"color: #800000; text-decoration-color: #800000\">❱ </span>84 <span style=\"color: #7f7f7f; text-decoration-color: #7f7f7f\">│   │   </span><span style=\"color: #0000ff; text-decoration-color: #0000ff\">return</span> load_state_dict_from_url(model, url, progress=<span style=\"color: #0000ff; text-decoration-color: #0000ff\">True</span>)                          <span style=\"color: #800000; text-decoration-color: #800000\">│</span>\n",
       "<span style=\"color: #800000; text-decoration-color: #800000\">│</span>   <span style=\"color: #7f7f7f; text-decoration-color: #7f7f7f\">85 </span><span style=\"color: #7f7f7f; text-decoration-color: #7f7f7f\">│   </span>                                                                                        <span style=\"color: #800000; text-decoration-color: #800000\">│</span>\n",
       "<span style=\"color: #800000; text-decoration-color: #800000\">│</span>   <span style=\"color: #7f7f7f; text-decoration-color: #7f7f7f\">86 </span><span style=\"color: #7f7f7f; text-decoration-color: #7f7f7f\">│   </span><span style=\"color: #0000ff; text-decoration-color: #0000ff\">elif</span> resource.startswith(<span style=\"color: #808000; text-decoration-color: #808000\">'local::'</span>):                                                    <span style=\"color: #800000; text-decoration-color: #800000\">│</span>\n",
       "<span style=\"color: #800000; text-decoration-color: #800000\">│</span>   <span style=\"color: #7f7f7f; text-decoration-color: #7f7f7f\">87 </span><span style=\"color: #7f7f7f; text-decoration-color: #7f7f7f\">│   │   </span>path = resource.split(<span style=\"color: #808000; text-decoration-color: #808000\">'local::'</span>)[<span style=\"color: #0000ff; text-decoration-color: #0000ff\">1</span>]                                                 <span style=\"color: #800000; text-decoration-color: #800000\">│</span>\n",
       "<span style=\"color: #800000; text-decoration-color: #800000\">│</span>                                                                                                  <span style=\"color: #800000; text-decoration-color: #800000\">│</span>\n",
       "<span style=\"color: #800000; text-decoration-color: #800000\">│</span> <span style=\"color: #bfbf7f; text-decoration-color: #bfbf7f\">/Users/linh/miniconda3/envs/a/lib/python3.10/site-packages/controlnet_aux/zoe/zoedepth/models/</span><span style=\"color: #808000; text-decoration-color: #808000; font-weight: bold\">mo</span> <span style=\"color: #800000; text-decoration-color: #800000\">│</span>\n",
       "<span style=\"color: #800000; text-decoration-color: #800000\">│</span> <span style=\"color: #808000; text-decoration-color: #808000; font-weight: bold\">del_io.py</span>:<span style=\"color: #0000ff; text-decoration-color: #0000ff\">61</span> in <span style=\"color: #00ff00; text-decoration-color: #00ff00\">load_state_dict_from_url</span>                                                         <span style=\"color: #800000; text-decoration-color: #800000\">│</span>\n",
       "<span style=\"color: #800000; text-decoration-color: #800000\">│</span>                                                                                                  <span style=\"color: #800000; text-decoration-color: #800000\">│</span>\n",
       "<span style=\"color: #800000; text-decoration-color: #800000\">│</span>   <span style=\"color: #7f7f7f; text-decoration-color: #7f7f7f\">58 </span>                                                                                            <span style=\"color: #800000; text-decoration-color: #800000\">│</span>\n",
       "<span style=\"color: #800000; text-decoration-color: #800000\">│</span>   <span style=\"color: #7f7f7f; text-decoration-color: #7f7f7f\">59 </span><span style=\"color: #0000ff; text-decoration-color: #0000ff\">def</span> <span style=\"color: #00ff00; text-decoration-color: #00ff00\">load_state_dict_from_url</span>(model, url, **kwargs):                                         <span style=\"color: #800000; text-decoration-color: #800000\">│</span>\n",
       "<span style=\"color: #800000; text-decoration-color: #800000\">│</span>   <span style=\"color: #7f7f7f; text-decoration-color: #7f7f7f\">60 </span><span style=\"color: #7f7f7f; text-decoration-color: #7f7f7f\">│   </span>state_dict = torch.hub.load_state_dict_from_url(url, map_location=<span style=\"color: #808000; text-decoration-color: #808000\">'cpu'</span>, **kwargs)      <span style=\"color: #800000; text-decoration-color: #800000\">│</span>\n",
       "<span style=\"color: #800000; text-decoration-color: #800000\">│</span> <span style=\"color: #800000; text-decoration-color: #800000\">❱ </span>61 <span style=\"color: #7f7f7f; text-decoration-color: #7f7f7f\">│   </span><span style=\"color: #0000ff; text-decoration-color: #0000ff\">return</span> load_state_dict(model, state_dict)                                               <span style=\"color: #800000; text-decoration-color: #800000\">│</span>\n",
       "<span style=\"color: #800000; text-decoration-color: #800000\">│</span>   <span style=\"color: #7f7f7f; text-decoration-color: #7f7f7f\">62 </span>                                                                                            <span style=\"color: #800000; text-decoration-color: #800000\">│</span>\n",
       "<span style=\"color: #800000; text-decoration-color: #800000\">│</span>   <span style=\"color: #7f7f7f; text-decoration-color: #7f7f7f\">63 </span>                                                                                            <span style=\"color: #800000; text-decoration-color: #800000\">│</span>\n",
       "<span style=\"color: #800000; text-decoration-color: #800000\">│</span>   <span style=\"color: #7f7f7f; text-decoration-color: #7f7f7f\">64 </span><span style=\"color: #0000ff; text-decoration-color: #0000ff\">def</span> <span style=\"color: #00ff00; text-decoration-color: #00ff00\">load_state_from_resource</span>(model, resource: <span style=\"color: #00ffff; text-decoration-color: #00ffff\">str</span>):                                         <span style=\"color: #800000; text-decoration-color: #800000\">│</span>\n",
       "<span style=\"color: #800000; text-decoration-color: #800000\">│</span>                                                                                                  <span style=\"color: #800000; text-decoration-color: #800000\">│</span>\n",
       "<span style=\"color: #800000; text-decoration-color: #800000\">│</span> <span style=\"color: #bfbf7f; text-decoration-color: #bfbf7f\">/Users/linh/miniconda3/envs/a/lib/python3.10/site-packages/controlnet_aux/zoe/zoedepth/models/</span><span style=\"color: #808000; text-decoration-color: #808000; font-weight: bold\">mo</span> <span style=\"color: #800000; text-decoration-color: #800000\">│</span>\n",
       "<span style=\"color: #800000; text-decoration-color: #800000\">│</span> <span style=\"color: #808000; text-decoration-color: #808000; font-weight: bold\">del_io.py</span>:<span style=\"color: #0000ff; text-decoration-color: #0000ff\">49</span> in <span style=\"color: #00ff00; text-decoration-color: #00ff00\">load_state_dict</span>                                                                  <span style=\"color: #800000; text-decoration-color: #800000\">│</span>\n",
       "<span style=\"color: #800000; text-decoration-color: #800000\">│</span>                                                                                                  <span style=\"color: #800000; text-decoration-color: #800000\">│</span>\n",
       "<span style=\"color: #800000; text-decoration-color: #800000\">│</span>   <span style=\"color: #7f7f7f; text-decoration-color: #7f7f7f\">46 </span><span style=\"color: #7f7f7f; text-decoration-color: #7f7f7f\">│   │   </span>                                                                                    <span style=\"color: #800000; text-decoration-color: #800000\">│</span>\n",
       "<span style=\"color: #800000; text-decoration-color: #800000\">│</span>   <span style=\"color: #7f7f7f; text-decoration-color: #7f7f7f\">47 </span><span style=\"color: #7f7f7f; text-decoration-color: #7f7f7f\">│   │   </span>state[k] = v                                                                        <span style=\"color: #800000; text-decoration-color: #800000\">│</span>\n",
       "<span style=\"color: #800000; text-decoration-color: #800000\">│</span>   <span style=\"color: #7f7f7f; text-decoration-color: #7f7f7f\">48 </span><span style=\"color: #7f7f7f; text-decoration-color: #7f7f7f\">│   </span>                                                                                        <span style=\"color: #800000; text-decoration-color: #800000\">│</span>\n",
       "<span style=\"color: #800000; text-decoration-color: #800000\">│</span> <span style=\"color: #800000; text-decoration-color: #800000\">❱ </span>49 <span style=\"color: #7f7f7f; text-decoration-color: #7f7f7f\">│   </span>model.load_state_dict(state)                                                            <span style=\"color: #800000; text-decoration-color: #800000\">│</span>\n",
       "<span style=\"color: #800000; text-decoration-color: #800000\">│</span>   <span style=\"color: #7f7f7f; text-decoration-color: #7f7f7f\">50 </span><span style=\"color: #7f7f7f; text-decoration-color: #7f7f7f\">│   </span><span style=\"color: #00ffff; text-decoration-color: #00ffff\">print</span>(<span style=\"color: #808000; text-decoration-color: #808000\">\"Loaded successfully\"</span>)                                                            <span style=\"color: #800000; text-decoration-color: #800000\">│</span>\n",
       "<span style=\"color: #800000; text-decoration-color: #800000\">│</span>   <span style=\"color: #7f7f7f; text-decoration-color: #7f7f7f\">51 </span><span style=\"color: #7f7f7f; text-decoration-color: #7f7f7f\">│   </span><span style=\"color: #0000ff; text-decoration-color: #0000ff\">return</span> model                                                                            <span style=\"color: #800000; text-decoration-color: #800000\">│</span>\n",
       "<span style=\"color: #800000; text-decoration-color: #800000\">│</span>   <span style=\"color: #7f7f7f; text-decoration-color: #7f7f7f\">52 </span>                                                                                            <span style=\"color: #800000; text-decoration-color: #800000\">│</span>\n",
       "<span style=\"color: #800000; text-decoration-color: #800000\">│</span>                                                                                                  <span style=\"color: #800000; text-decoration-color: #800000\">│</span>\n",
       "<span style=\"color: #800000; text-decoration-color: #800000\">│</span> <span style=\"color: #bfbf7f; text-decoration-color: #bfbf7f\">/Users/linh/miniconda3/envs/a/lib/python3.10/site-packages/torch/nn/modules/</span><span style=\"color: #808000; text-decoration-color: #808000; font-weight: bold\">module.py</span>:<span style=\"color: #0000ff; text-decoration-color: #0000ff\">2153</span> in    <span style=\"color: #800000; text-decoration-color: #800000\">│</span>\n",
       "<span style=\"color: #800000; text-decoration-color: #800000\">│</span> <span style=\"color: #00ff00; text-decoration-color: #00ff00\">load_state_dict</span>                                                                                  <span style=\"color: #800000; text-decoration-color: #800000\">│</span>\n",
       "<span style=\"color: #800000; text-decoration-color: #800000\">│</span>                                                                                                  <span style=\"color: #800000; text-decoration-color: #800000\">│</span>\n",
       "<span style=\"color: #800000; text-decoration-color: #800000\">│</span>   <span style=\"color: #7f7f7f; text-decoration-color: #7f7f7f\">2150 </span><span style=\"color: #7f7f7f; text-decoration-color: #7f7f7f\">│   │   │   │   │   │   </span><span style=\"color: #808000; text-decoration-color: #808000\">', '</span>.join(<span style=\"color: #808000; text-decoration-color: #808000\">f'\"{</span>k<span style=\"color: #808000; text-decoration-color: #808000\">}\"'</span> <span style=\"color: #0000ff; text-decoration-color: #0000ff\">for</span> k <span style=\"color: #ff00ff; text-decoration-color: #ff00ff\">in</span> missing_keys)))                       <span style=\"color: #800000; text-decoration-color: #800000\">│</span>\n",
       "<span style=\"color: #800000; text-decoration-color: #800000\">│</span>   <span style=\"color: #7f7f7f; text-decoration-color: #7f7f7f\">2151 </span><span style=\"color: #7f7f7f; text-decoration-color: #7f7f7f\">│   │   </span>                                                                                  <span style=\"color: #800000; text-decoration-color: #800000\">│</span>\n",
       "<span style=\"color: #800000; text-decoration-color: #800000\">│</span>   <span style=\"color: #7f7f7f; text-decoration-color: #7f7f7f\">2152 </span><span style=\"color: #7f7f7f; text-decoration-color: #7f7f7f\">│   │   </span><span style=\"color: #0000ff; text-decoration-color: #0000ff\">if</span> <span style=\"color: #00ffff; text-decoration-color: #00ffff\">len</span>(error_msgs) &gt; <span style=\"color: #0000ff; text-decoration-color: #0000ff\">0</span>:                                                           <span style=\"color: #800000; text-decoration-color: #800000\">│</span>\n",
       "<span style=\"color: #800000; text-decoration-color: #800000\">│</span> <span style=\"color: #800000; text-decoration-color: #800000\">❱ </span>2153 <span style=\"color: #7f7f7f; text-decoration-color: #7f7f7f\">│   │   │   </span><span style=\"color: #0000ff; text-decoration-color: #0000ff\">raise</span> <span style=\"color: #00ffff; text-decoration-color: #00ffff\">RuntimeError</span>(<span style=\"color: #808000; text-decoration-color: #808000\">'Error(s) in loading state_dict for {}:\\n\\t{}'</span>.format(     <span style=\"color: #800000; text-decoration-color: #800000\">│</span>\n",
       "<span style=\"color: #800000; text-decoration-color: #800000\">│</span>   <span style=\"color: #7f7f7f; text-decoration-color: #7f7f7f\">2154 </span><span style=\"color: #7f7f7f; text-decoration-color: #7f7f7f\">│   │   │   │   │   │   │      </span><span style=\"color: #00ffff; text-decoration-color: #00ffff\">self</span>.<span style=\"color: #ff0000; text-decoration-color: #ff0000\">__class__</span>.<span style=\"color: #ff0000; text-decoration-color: #ff0000\">__name__</span>, <span style=\"color: #808000; text-decoration-color: #808000\">\"\\n\\t\"</span>.join(error_msgs)))         <span style=\"color: #800000; text-decoration-color: #800000\">│</span>\n",
       "<span style=\"color: #800000; text-decoration-color: #800000\">│</span>   <span style=\"color: #7f7f7f; text-decoration-color: #7f7f7f\">2155 </span><span style=\"color: #7f7f7f; text-decoration-color: #7f7f7f\">│   │   </span><span style=\"color: #0000ff; text-decoration-color: #0000ff\">return</span> _IncompatibleKeys(missing_keys, unexpected_keys)                           <span style=\"color: #800000; text-decoration-color: #800000\">│</span>\n",
       "<span style=\"color: #800000; text-decoration-color: #800000\">│</span>   <span style=\"color: #7f7f7f; text-decoration-color: #7f7f7f\">2156 </span>                                                                                          <span style=\"color: #800000; text-decoration-color: #800000\">│</span>\n",
       "<span style=\"color: #800000; text-decoration-color: #800000\">╰──────────────────────────────────────────────────────────────────────────────────────────────────╯</span>\n",
       "<span style=\"color: #ff0000; text-decoration-color: #ff0000; font-weight: bold\">RuntimeError: </span><span style=\"color: #800080; text-decoration-color: #800080; font-weight: bold\">Error</span><span style=\"font-weight: bold\">(</span>s<span style=\"font-weight: bold\">)</span> in loading state_dict for ZoeDepthNK:\n",
       "        Unexpected <span style=\"color: #800080; text-decoration-color: #800080; font-weight: bold\">key</span><span style=\"font-weight: bold\">(</span>s<span style=\"font-weight: bold\">)</span> in state_dict: <span style=\"color: #008000; text-decoration-color: #008000\">\"core.core.pretrained.model.blocks.0.attn.relative_position_index\"</span>, \n",
       "<span style=\"color: #008000; text-decoration-color: #008000\">\"core.core.pretrained.model.blocks.1.attn.relative_position_index\"</span>, \n",
       "<span style=\"color: #008000; text-decoration-color: #008000\">\"core.core.pretrained.model.blocks.2.attn.relative_position_index\"</span>, \n",
       "<span style=\"color: #008000; text-decoration-color: #008000\">\"core.core.pretrained.model.blocks.3.attn.relative_position_index\"</span>, \n",
       "<span style=\"color: #008000; text-decoration-color: #008000\">\"core.core.pretrained.model.blocks.4.attn.relative_position_index\"</span>, \n",
       "<span style=\"color: #008000; text-decoration-color: #008000\">\"core.core.pretrained.model.blocks.5.attn.relative_position_index\"</span>, \n",
       "<span style=\"color: #008000; text-decoration-color: #008000\">\"core.core.pretrained.model.blocks.6.attn.relative_position_index\"</span>, \n",
       "<span style=\"color: #008000; text-decoration-color: #008000\">\"core.core.pretrained.model.blocks.7.attn.relative_position_index\"</span>, \n",
       "<span style=\"color: #008000; text-decoration-color: #008000\">\"core.core.pretrained.model.blocks.8.attn.relative_position_index\"</span>, \n",
       "<span style=\"color: #008000; text-decoration-color: #008000\">\"core.core.pretrained.model.blocks.9.attn.relative_position_index\"</span>, \n",
       "<span style=\"color: #008000; text-decoration-color: #008000\">\"core.core.pretrained.model.blocks.10.attn.relative_position_index\"</span>, \n",
       "<span style=\"color: #008000; text-decoration-color: #008000\">\"core.core.pretrained.model.blocks.11.attn.relative_position_index\"</span>, \n",
       "<span style=\"color: #008000; text-decoration-color: #008000\">\"core.core.pretrained.model.blocks.12.attn.relative_position_index\"</span>, \n",
       "<span style=\"color: #008000; text-decoration-color: #008000\">\"core.core.pretrained.model.blocks.13.attn.relative_position_index\"</span>, \n",
       "<span style=\"color: #008000; text-decoration-color: #008000\">\"core.core.pretrained.model.blocks.14.attn.relative_position_index\"</span>, \n",
       "<span style=\"color: #008000; text-decoration-color: #008000\">\"core.core.pretrained.model.blocks.15.attn.relative_position_index\"</span>, \n",
       "<span style=\"color: #008000; text-decoration-color: #008000\">\"core.core.pretrained.model.blocks.16.attn.relative_position_index\"</span>, \n",
       "<span style=\"color: #008000; text-decoration-color: #008000\">\"core.core.pretrained.model.blocks.17.attn.relative_position_index\"</span>, \n",
       "<span style=\"color: #008000; text-decoration-color: #008000\">\"core.core.pretrained.model.blocks.18.attn.relative_position_index\"</span>, \n",
       "<span style=\"color: #008000; text-decoration-color: #008000\">\"core.core.pretrained.model.blocks.19.attn.relative_position_index\"</span>, \n",
       "<span style=\"color: #008000; text-decoration-color: #008000\">\"core.core.pretrained.model.blocks.20.attn.relative_position_index\"</span>, \n",
       "<span style=\"color: #008000; text-decoration-color: #008000\">\"core.core.pretrained.model.blocks.21.attn.relative_position_index\"</span>, \n",
       "<span style=\"color: #008000; text-decoration-color: #008000\">\"core.core.pretrained.model.blocks.22.attn.relative_position_index\"</span>, \n",
       "<span style=\"color: #008000; text-decoration-color: #008000\">\"core.core.pretrained.model.blocks.23.attn.relative_position_index\"</span>. \n",
       "</pre>\n"
      ],
      "text/plain": [
       "\u001b[31m╭─\u001b[0m\u001b[31m──────────────────────────────\u001b[0m\u001b[31m \u001b[0m\u001b[1;31mTraceback \u001b[0m\u001b[1;2;31m(most recent call last)\u001b[0m\u001b[31m \u001b[0m\u001b[31m───────────────────────────────\u001b[0m\u001b[31m─╮\u001b[0m\n",
       "\u001b[31m│\u001b[0m in \u001b[92m<module>\u001b[0m:\u001b[94m23\u001b[0m                                                                                   \u001b[31m│\u001b[0m\n",
       "\u001b[31m│\u001b[0m                                                                                                  \u001b[31m│\u001b[0m\n",
       "\u001b[31m│\u001b[0m   \u001b[2m20 \u001b[0m\u001b[2m# due to using Mac, I don't enable xformers\u001b[0m                                                 \u001b[31m│\u001b[0m\n",
       "\u001b[31m│\u001b[0m   \u001b[2m21 \u001b[0m\u001b[2m#pipe.enable_xformers_memory_efficient_attention()\u001b[0m                                          \u001b[31m│\u001b[0m\n",
       "\u001b[31m│\u001b[0m   \u001b[2m22 \u001b[0m                                                                                            \u001b[31m│\u001b[0m\n",
       "\u001b[31m│\u001b[0m \u001b[31m❱ \u001b[0m23 zoe_depth = ZoeDetector.from_pretrained(\u001b[33m\"\u001b[0m\u001b[33mvalhalla/t2iadapter-aux-models\u001b[0m\u001b[33m\"\u001b[0m,                   \u001b[31m│\u001b[0m\n",
       "\u001b[31m│\u001b[0m   \u001b[2m24 \u001b[0m\u001b[2m│   │   │   │   │   │   │   │   │   │   \u001b[0m\u001b[2m#\"lllyasviel/Annotators\",\u001b[0m                           \u001b[31m│\u001b[0m\n",
       "\u001b[31m│\u001b[0m   \u001b[2m25 \u001b[0m\u001b[2m│   │   │   │   │   │   │   │   │   │   \u001b[0m\u001b[2m#filename=\"ZoeD_M12_N.pt\", \u001b[0m                         \u001b[31m│\u001b[0m\n",
       "\u001b[31m│\u001b[0m   \u001b[2m26 \u001b[0m\u001b[2m│   │   │   │   │   │   │   │   │   │   \u001b[0m\u001b[2m#filename=\"zoed_nk.pth\",\u001b[0m                            \u001b[31m│\u001b[0m\n",
       "\u001b[31m│\u001b[0m                                                                                                  \u001b[31m│\u001b[0m\n",
       "\u001b[31m│\u001b[0m \u001b[2;33m/Users/linh/miniconda3/envs/a/lib/python3.10/site-packages/controlnet_aux/zoe/\u001b[0m\u001b[1;33m__init__.py\u001b[0m:\u001b[94m31\u001b[0m in  \u001b[31m│\u001b[0m\n",
       "\u001b[31m│\u001b[0m \u001b[92mfrom_pretrained\u001b[0m                                                                                  \u001b[31m│\u001b[0m\n",
       "\u001b[31m│\u001b[0m                                                                                                  \u001b[31m│\u001b[0m\n",
       "\u001b[31m│\u001b[0m   \u001b[2m28 \u001b[0m\u001b[2m│   │   \u001b[0m                                                                                    \u001b[31m│\u001b[0m\n",
       "\u001b[31m│\u001b[0m   \u001b[2m29 \u001b[0m\u001b[2m│   │   \u001b[0mconf = get_config(model_type, \u001b[33m\"\u001b[0m\u001b[33minfer\u001b[0m\u001b[33m\"\u001b[0m)                                              \u001b[31m│\u001b[0m\n",
       "\u001b[31m│\u001b[0m   \u001b[2m30 \u001b[0m\u001b[2m│   │   \u001b[0mmodel_cls = ZoeDepth \u001b[94mif\u001b[0m model_type == \u001b[33m\"\u001b[0m\u001b[33mzoedepth\u001b[0m\u001b[33m\"\u001b[0m \u001b[94melse\u001b[0m ZoeDepthNK                    \u001b[31m│\u001b[0m\n",
       "\u001b[31m│\u001b[0m \u001b[31m❱ \u001b[0m31 \u001b[2m│   │   \u001b[0mmodel = model_cls.build_from_config(conf)                                           \u001b[31m│\u001b[0m\n",
       "\u001b[31m│\u001b[0m   \u001b[2m32 \u001b[0m\u001b[2m│   │   \u001b[0mmodel.load_state_dict(torch.load(model_path, map_location=torch.device(\u001b[33m'\u001b[0m\u001b[33mcpu\u001b[0m\u001b[33m'\u001b[0m))[\u001b[33m'\u001b[0m    \u001b[31m│\u001b[0m\n",
       "\u001b[31m│\u001b[0m   \u001b[2m33 \u001b[0m\u001b[2m│   │   \u001b[0mmodel.eval()                                                                        \u001b[31m│\u001b[0m\n",
       "\u001b[31m│\u001b[0m   \u001b[2m34 \u001b[0m                                                                                            \u001b[31m│\u001b[0m\n",
       "\u001b[31m│\u001b[0m                                                                                                  \u001b[31m│\u001b[0m\n",
       "\u001b[31m│\u001b[0m \u001b[2;33m/Users/linh/miniconda3/envs/a/lib/python3.10/site-packages/controlnet_aux/zoe/zoedepth/models/zo\u001b[0m \u001b[31m│\u001b[0m\n",
       "\u001b[31m│\u001b[0m \u001b[2;33medepth_nk/\u001b[0m\u001b[1;33mzoedepth_nk_v1.py\u001b[0m:\u001b[94m332\u001b[0m in \u001b[92mbuild_from_config\u001b[0m                                             \u001b[31m│\u001b[0m\n",
       "\u001b[31m│\u001b[0m                                                                                                  \u001b[31m│\u001b[0m\n",
       "\u001b[31m│\u001b[0m   \u001b[2m329 \u001b[0m\u001b[2m│   \u001b[0m                                                                                       \u001b[31m│\u001b[0m\n",
       "\u001b[31m│\u001b[0m   \u001b[2m330 \u001b[0m\u001b[2m│   \u001b[0m\u001b[1;95m@staticmethod\u001b[0m                                                                          \u001b[31m│\u001b[0m\n",
       "\u001b[31m│\u001b[0m   \u001b[2m331 \u001b[0m\u001b[2m│   \u001b[0m\u001b[94mdef\u001b[0m \u001b[92mbuild_from_config\u001b[0m(config):                                                         \u001b[31m│\u001b[0m\n",
       "\u001b[31m│\u001b[0m \u001b[31m❱ \u001b[0m332 \u001b[2m│   │   \u001b[0m\u001b[94mreturn\u001b[0m ZoeDepthNK.build(**config)                                                  \u001b[31m│\u001b[0m\n",
       "\u001b[31m│\u001b[0m   \u001b[2m333 \u001b[0m                                                                                           \u001b[31m│\u001b[0m\n",
       "\u001b[31m│\u001b[0m                                                                                                  \u001b[31m│\u001b[0m\n",
       "\u001b[31m│\u001b[0m \u001b[2;33m/Users/linh/miniconda3/envs/a/lib/python3.10/site-packages/controlnet_aux/zoe/zoedepth/models/zo\u001b[0m \u001b[31m│\u001b[0m\n",
       "\u001b[31m│\u001b[0m \u001b[2;33medepth_nk/\u001b[0m\u001b[1;33mzoedepth_nk_v1.py\u001b[0m:\u001b[94m327\u001b[0m in \u001b[92mbuild\u001b[0m                                                         \u001b[31m│\u001b[0m\n",
       "\u001b[31m│\u001b[0m                                                                                                  \u001b[31m│\u001b[0m\n",
       "\u001b[31m│\u001b[0m   \u001b[2m324 \u001b[0m\u001b[2m│   │   \u001b[0mmodel = ZoeDepthNK(core, **kwargs)                                                 \u001b[31m│\u001b[0m\n",
       "\u001b[31m│\u001b[0m   \u001b[2m325 \u001b[0m\u001b[2m│   │   \u001b[0m\u001b[94mif\u001b[0m pretrained_resource:                                                            \u001b[31m│\u001b[0m\n",
       "\u001b[31m│\u001b[0m   \u001b[2m326 \u001b[0m\u001b[2m│   │   │   \u001b[0m\u001b[94massert\u001b[0m \u001b[96misinstance\u001b[0m(pretrained_resource, \u001b[96mstr\u001b[0m), \u001b[33m\"\u001b[0m\u001b[33mpretrained_resource must be a \u001b[0m   \u001b[31m│\u001b[0m\n",
       "\u001b[31m│\u001b[0m \u001b[31m❱ \u001b[0m327 \u001b[2m│   │   │   \u001b[0mmodel = load_state_from_resource(model, pretrained_resource)                   \u001b[31m│\u001b[0m\n",
       "\u001b[31m│\u001b[0m   \u001b[2m328 \u001b[0m\u001b[2m│   │   \u001b[0m\u001b[94mreturn\u001b[0m model                                                                       \u001b[31m│\u001b[0m\n",
       "\u001b[31m│\u001b[0m   \u001b[2m329 \u001b[0m\u001b[2m│   \u001b[0m                                                                                       \u001b[31m│\u001b[0m\n",
       "\u001b[31m│\u001b[0m   \u001b[2m330 \u001b[0m\u001b[2m│   \u001b[0m\u001b[1;95m@staticmethod\u001b[0m                                                                          \u001b[31m│\u001b[0m\n",
       "\u001b[31m│\u001b[0m                                                                                                  \u001b[31m│\u001b[0m\n",
       "\u001b[31m│\u001b[0m \u001b[2;33m/Users/linh/miniconda3/envs/a/lib/python3.10/site-packages/controlnet_aux/zoe/zoedepth/models/\u001b[0m\u001b[1;33mmo\u001b[0m \u001b[31m│\u001b[0m\n",
       "\u001b[31m│\u001b[0m \u001b[1;33mdel_io.py\u001b[0m:\u001b[94m84\u001b[0m in \u001b[92mload_state_from_resource\u001b[0m                                                         \u001b[31m│\u001b[0m\n",
       "\u001b[31m│\u001b[0m                                                                                                  \u001b[31m│\u001b[0m\n",
       "\u001b[31m│\u001b[0m   \u001b[2m81 \u001b[0m\u001b[2m│   \u001b[0m                                                                                        \u001b[31m│\u001b[0m\n",
       "\u001b[31m│\u001b[0m   \u001b[2m82 \u001b[0m\u001b[2m│   \u001b[0m\u001b[94mif\u001b[0m resource.startswith(\u001b[33m'\u001b[0m\u001b[33murl::\u001b[0m\u001b[33m'\u001b[0m):                                                        \u001b[31m│\u001b[0m\n",
       "\u001b[31m│\u001b[0m   \u001b[2m83 \u001b[0m\u001b[2m│   │   \u001b[0murl = resource.split(\u001b[33m'\u001b[0m\u001b[33murl::\u001b[0m\u001b[33m'\u001b[0m)[\u001b[94m1\u001b[0m]                                                    \u001b[31m│\u001b[0m\n",
       "\u001b[31m│\u001b[0m \u001b[31m❱ \u001b[0m84 \u001b[2m│   │   \u001b[0m\u001b[94mreturn\u001b[0m load_state_dict_from_url(model, url, progress=\u001b[94mTrue\u001b[0m)                          \u001b[31m│\u001b[0m\n",
       "\u001b[31m│\u001b[0m   \u001b[2m85 \u001b[0m\u001b[2m│   \u001b[0m                                                                                        \u001b[31m│\u001b[0m\n",
       "\u001b[31m│\u001b[0m   \u001b[2m86 \u001b[0m\u001b[2m│   \u001b[0m\u001b[94melif\u001b[0m resource.startswith(\u001b[33m'\u001b[0m\u001b[33mlocal::\u001b[0m\u001b[33m'\u001b[0m):                                                    \u001b[31m│\u001b[0m\n",
       "\u001b[31m│\u001b[0m   \u001b[2m87 \u001b[0m\u001b[2m│   │   \u001b[0mpath = resource.split(\u001b[33m'\u001b[0m\u001b[33mlocal::\u001b[0m\u001b[33m'\u001b[0m)[\u001b[94m1\u001b[0m]                                                 \u001b[31m│\u001b[0m\n",
       "\u001b[31m│\u001b[0m                                                                                                  \u001b[31m│\u001b[0m\n",
       "\u001b[31m│\u001b[0m \u001b[2;33m/Users/linh/miniconda3/envs/a/lib/python3.10/site-packages/controlnet_aux/zoe/zoedepth/models/\u001b[0m\u001b[1;33mmo\u001b[0m \u001b[31m│\u001b[0m\n",
       "\u001b[31m│\u001b[0m \u001b[1;33mdel_io.py\u001b[0m:\u001b[94m61\u001b[0m in \u001b[92mload_state_dict_from_url\u001b[0m                                                         \u001b[31m│\u001b[0m\n",
       "\u001b[31m│\u001b[0m                                                                                                  \u001b[31m│\u001b[0m\n",
       "\u001b[31m│\u001b[0m   \u001b[2m58 \u001b[0m                                                                                            \u001b[31m│\u001b[0m\n",
       "\u001b[31m│\u001b[0m   \u001b[2m59 \u001b[0m\u001b[94mdef\u001b[0m \u001b[92mload_state_dict_from_url\u001b[0m(model, url, **kwargs):                                         \u001b[31m│\u001b[0m\n",
       "\u001b[31m│\u001b[0m   \u001b[2m60 \u001b[0m\u001b[2m│   \u001b[0mstate_dict = torch.hub.load_state_dict_from_url(url, map_location=\u001b[33m'\u001b[0m\u001b[33mcpu\u001b[0m\u001b[33m'\u001b[0m, **kwargs)      \u001b[31m│\u001b[0m\n",
       "\u001b[31m│\u001b[0m \u001b[31m❱ \u001b[0m61 \u001b[2m│   \u001b[0m\u001b[94mreturn\u001b[0m load_state_dict(model, state_dict)                                               \u001b[31m│\u001b[0m\n",
       "\u001b[31m│\u001b[0m   \u001b[2m62 \u001b[0m                                                                                            \u001b[31m│\u001b[0m\n",
       "\u001b[31m│\u001b[0m   \u001b[2m63 \u001b[0m                                                                                            \u001b[31m│\u001b[0m\n",
       "\u001b[31m│\u001b[0m   \u001b[2m64 \u001b[0m\u001b[94mdef\u001b[0m \u001b[92mload_state_from_resource\u001b[0m(model, resource: \u001b[96mstr\u001b[0m):                                         \u001b[31m│\u001b[0m\n",
       "\u001b[31m│\u001b[0m                                                                                                  \u001b[31m│\u001b[0m\n",
       "\u001b[31m│\u001b[0m \u001b[2;33m/Users/linh/miniconda3/envs/a/lib/python3.10/site-packages/controlnet_aux/zoe/zoedepth/models/\u001b[0m\u001b[1;33mmo\u001b[0m \u001b[31m│\u001b[0m\n",
       "\u001b[31m│\u001b[0m \u001b[1;33mdel_io.py\u001b[0m:\u001b[94m49\u001b[0m in \u001b[92mload_state_dict\u001b[0m                                                                  \u001b[31m│\u001b[0m\n",
       "\u001b[31m│\u001b[0m                                                                                                  \u001b[31m│\u001b[0m\n",
       "\u001b[31m│\u001b[0m   \u001b[2m46 \u001b[0m\u001b[2m│   │   \u001b[0m                                                                                    \u001b[31m│\u001b[0m\n",
       "\u001b[31m│\u001b[0m   \u001b[2m47 \u001b[0m\u001b[2m│   │   \u001b[0mstate[k] = v                                                                        \u001b[31m│\u001b[0m\n",
       "\u001b[31m│\u001b[0m   \u001b[2m48 \u001b[0m\u001b[2m│   \u001b[0m                                                                                        \u001b[31m│\u001b[0m\n",
       "\u001b[31m│\u001b[0m \u001b[31m❱ \u001b[0m49 \u001b[2m│   \u001b[0mmodel.load_state_dict(state)                                                            \u001b[31m│\u001b[0m\n",
       "\u001b[31m│\u001b[0m   \u001b[2m50 \u001b[0m\u001b[2m│   \u001b[0m\u001b[96mprint\u001b[0m(\u001b[33m\"\u001b[0m\u001b[33mLoaded successfully\u001b[0m\u001b[33m\"\u001b[0m)                                                            \u001b[31m│\u001b[0m\n",
       "\u001b[31m│\u001b[0m   \u001b[2m51 \u001b[0m\u001b[2m│   \u001b[0m\u001b[94mreturn\u001b[0m model                                                                            \u001b[31m│\u001b[0m\n",
       "\u001b[31m│\u001b[0m   \u001b[2m52 \u001b[0m                                                                                            \u001b[31m│\u001b[0m\n",
       "\u001b[31m│\u001b[0m                                                                                                  \u001b[31m│\u001b[0m\n",
       "\u001b[31m│\u001b[0m \u001b[2;33m/Users/linh/miniconda3/envs/a/lib/python3.10/site-packages/torch/nn/modules/\u001b[0m\u001b[1;33mmodule.py\u001b[0m:\u001b[94m2153\u001b[0m in    \u001b[31m│\u001b[0m\n",
       "\u001b[31m│\u001b[0m \u001b[92mload_state_dict\u001b[0m                                                                                  \u001b[31m│\u001b[0m\n",
       "\u001b[31m│\u001b[0m                                                                                                  \u001b[31m│\u001b[0m\n",
       "\u001b[31m│\u001b[0m   \u001b[2m2150 \u001b[0m\u001b[2m│   │   │   │   │   │   \u001b[0m\u001b[33m'\u001b[0m\u001b[33m, \u001b[0m\u001b[33m'\u001b[0m.join(\u001b[33mf\u001b[0m\u001b[33m'\u001b[0m\u001b[33m\"\u001b[0m\u001b[33m{\u001b[0mk\u001b[33m}\u001b[0m\u001b[33m\"\u001b[0m\u001b[33m'\u001b[0m \u001b[94mfor\u001b[0m k \u001b[95min\u001b[0m missing_keys)))                       \u001b[31m│\u001b[0m\n",
       "\u001b[31m│\u001b[0m   \u001b[2m2151 \u001b[0m\u001b[2m│   │   \u001b[0m                                                                                  \u001b[31m│\u001b[0m\n",
       "\u001b[31m│\u001b[0m   \u001b[2m2152 \u001b[0m\u001b[2m│   │   \u001b[0m\u001b[94mif\u001b[0m \u001b[96mlen\u001b[0m(error_msgs) > \u001b[94m0\u001b[0m:                                                           \u001b[31m│\u001b[0m\n",
       "\u001b[31m│\u001b[0m \u001b[31m❱ \u001b[0m2153 \u001b[2m│   │   │   \u001b[0m\u001b[94mraise\u001b[0m \u001b[96mRuntimeError\u001b[0m(\u001b[33m'\u001b[0m\u001b[33mError(s) in loading state_dict for \u001b[0m\u001b[33m{}\u001b[0m\u001b[33m:\u001b[0m\u001b[33m\\n\u001b[0m\u001b[33m\\t\u001b[0m\u001b[33m{}\u001b[0m\u001b[33m'\u001b[0m.format(     \u001b[31m│\u001b[0m\n",
       "\u001b[31m│\u001b[0m   \u001b[2m2154 \u001b[0m\u001b[2m│   │   │   │   │   │   │      \u001b[0m\u001b[96mself\u001b[0m.\u001b[91m__class__\u001b[0m.\u001b[91m__name__\u001b[0m, \u001b[33m\"\u001b[0m\u001b[33m\\n\u001b[0m\u001b[33m\\t\u001b[0m\u001b[33m\"\u001b[0m.join(error_msgs)))         \u001b[31m│\u001b[0m\n",
       "\u001b[31m│\u001b[0m   \u001b[2m2155 \u001b[0m\u001b[2m│   │   \u001b[0m\u001b[94mreturn\u001b[0m _IncompatibleKeys(missing_keys, unexpected_keys)                           \u001b[31m│\u001b[0m\n",
       "\u001b[31m│\u001b[0m   \u001b[2m2156 \u001b[0m                                                                                          \u001b[31m│\u001b[0m\n",
       "\u001b[31m╰──────────────────────────────────────────────────────────────────────────────────────────────────╯\u001b[0m\n",
       "\u001b[1;91mRuntimeError: \u001b[0m\u001b[1;35mError\u001b[0m\u001b[1m(\u001b[0ms\u001b[1m)\u001b[0m in loading state_dict for ZoeDepthNK:\n",
       "        Unexpected \u001b[1;35mkey\u001b[0m\u001b[1m(\u001b[0ms\u001b[1m)\u001b[0m in state_dict: \u001b[32m\"core.core.pretrained.model.blocks.0.attn.relative_position_index\"\u001b[0m, \n",
       "\u001b[32m\"core.core.pretrained.model.blocks.1.attn.relative_position_index\"\u001b[0m, \n",
       "\u001b[32m\"core.core.pretrained.model.blocks.2.attn.relative_position_index\"\u001b[0m, \n",
       "\u001b[32m\"core.core.pretrained.model.blocks.3.attn.relative_position_index\"\u001b[0m, \n",
       "\u001b[32m\"core.core.pretrained.model.blocks.4.attn.relative_position_index\"\u001b[0m, \n",
       "\u001b[32m\"core.core.pretrained.model.blocks.5.attn.relative_position_index\"\u001b[0m, \n",
       "\u001b[32m\"core.core.pretrained.model.blocks.6.attn.relative_position_index\"\u001b[0m, \n",
       "\u001b[32m\"core.core.pretrained.model.blocks.7.attn.relative_position_index\"\u001b[0m, \n",
       "\u001b[32m\"core.core.pretrained.model.blocks.8.attn.relative_position_index\"\u001b[0m, \n",
       "\u001b[32m\"core.core.pretrained.model.blocks.9.attn.relative_position_index\"\u001b[0m, \n",
       "\u001b[32m\"core.core.pretrained.model.blocks.10.attn.relative_position_index\"\u001b[0m, \n",
       "\u001b[32m\"core.core.pretrained.model.blocks.11.attn.relative_position_index\"\u001b[0m, \n",
       "\u001b[32m\"core.core.pretrained.model.blocks.12.attn.relative_position_index\"\u001b[0m, \n",
       "\u001b[32m\"core.core.pretrained.model.blocks.13.attn.relative_position_index\"\u001b[0m, \n",
       "\u001b[32m\"core.core.pretrained.model.blocks.14.attn.relative_position_index\"\u001b[0m, \n",
       "\u001b[32m\"core.core.pretrained.model.blocks.15.attn.relative_position_index\"\u001b[0m, \n",
       "\u001b[32m\"core.core.pretrained.model.blocks.16.attn.relative_position_index\"\u001b[0m, \n",
       "\u001b[32m\"core.core.pretrained.model.blocks.17.attn.relative_position_index\"\u001b[0m, \n",
       "\u001b[32m\"core.core.pretrained.model.blocks.18.attn.relative_position_index\"\u001b[0m, \n",
       "\u001b[32m\"core.core.pretrained.model.blocks.19.attn.relative_position_index\"\u001b[0m, \n",
       "\u001b[32m\"core.core.pretrained.model.blocks.20.attn.relative_position_index\"\u001b[0m, \n",
       "\u001b[32m\"core.core.pretrained.model.blocks.21.attn.relative_position_index\"\u001b[0m, \n",
       "\u001b[32m\"core.core.pretrained.model.blocks.22.attn.relative_position_index\"\u001b[0m, \n",
       "\u001b[32m\"core.core.pretrained.model.blocks.23.attn.relative_position_index\"\u001b[0m. \n"
      ]
     },
     "metadata": {},
     "output_type": "display_data"
    }
   ],
   "source": [
    "# load adapter\n",
    "adapter = T2IAdapter.from_pretrained(\"TencentARC/t2i-adapter-depth-zoe-sdxl-1.0\", \n",
    "                                     torch_dtype=torch.float16, \n",
    "                                     varient=\"fp16\").to(device)\n",
    "\n",
    "# load euler_a scheduler\n",
    "model_id = 'stabilityai/stable-diffusion-xl-base-1.0'\n",
    "\n",
    "euler_a = EulerAncestralDiscreteScheduler.from_pretrained(model_id, \n",
    "                                                          subfolder=\"scheduler\")\n",
    "vae=AutoencoderKL.from_pretrained(\"madebyollin/sdxl-vae-fp16-fix\", \n",
    "                                  torch_dtype=torch.float16)\n",
    "\n",
    "pipe = StableDiffusionXLAdapterPipeline.from_pretrained(model_id, \n",
    "                                                        vae=vae, \n",
    "                                                        adapter=adapter, \n",
    "                                                        scheduler=euler_a, \n",
    "                                                        torch_dtype=torch.float16, \n",
    "                                                        variant=\"fp16\", ).to(device)\n",
    "# due to using Mac, I don't enable xformers\n",
    "#pipe.enable_xformers_memory_efficient_attention()\n",
    "\n",
    "zoe_depth = ZoeDetector.from_pretrained(\"valhalla/t2iadapter-aux-models\", \n",
    "                                        #\"lllyasviel/Annotators\",\n",
    "                                        #filename=\"ZoeD_M12_N.pt\", \n",
    "                                        #filename=\"zoed_nk.pth\",\n",
    "                                        filename=\"dpt_large_384.pt\",\n",
    "                                        model_type=\"zoedepth_nk\").to(device)"
   ]
  },
  {
   "cell_type": "markdown",
   "metadata": {},
   "source": [
    "### Conditional Image"
   ]
  },
  {
   "cell_type": "code",
   "execution_count": 44,
   "metadata": {},
   "outputs": [
    {
     "data": {
      "text/html": [
       "<pre style=\"white-space:pre;overflow-x:auto;line-height:normal;font-family:Menlo,'DejaVu Sans Mono',consolas,'Courier New',monospace\"><span style=\"color: #800000; text-decoration-color: #800000\">╭─────────────────────────────── </span><span style=\"color: #800000; text-decoration-color: #800000; font-weight: bold\">Traceback </span><span style=\"color: #bf7f7f; text-decoration-color: #bf7f7f; font-weight: bold\">(most recent call last)</span><span style=\"color: #800000; text-decoration-color: #800000\"> ────────────────────────────────╮</span>\n",
       "<span style=\"color: #800000; text-decoration-color: #800000\">│</span> in <span style=\"color: #00ff00; text-decoration-color: #00ff00\">&lt;module&gt;</span>:<span style=\"color: #0000ff; text-decoration-color: #0000ff\">3</span>                                                                                    <span style=\"color: #800000; text-decoration-color: #800000\">│</span>\n",
       "<span style=\"color: #800000; text-decoration-color: #800000\">│</span>                                                                                                  <span style=\"color: #800000; text-decoration-color: #800000\">│</span>\n",
       "<span style=\"color: #800000; text-decoration-color: #800000\">│</span>   <span style=\"color: #7f7f7f; text-decoration-color: #7f7f7f\">1 </span>url = <span style=\"color: #808000; text-decoration-color: #808000\">\"https://huggingface.co/Adapter/t2iadapter/resolve/main/figs_SDXLV1.0/org_zeo.jpg\"</span>     <span style=\"color: #800000; text-decoration-color: #800000\">│</span>\n",
       "<span style=\"color: #800000; text-decoration-color: #800000\">│</span>   <span style=\"color: #7f7f7f; text-decoration-color: #7f7f7f\">2 </span>image = load_image(url)                                                                      <span style=\"color: #800000; text-decoration-color: #800000\">│</span>\n",
       "<span style=\"color: #800000; text-decoration-color: #800000\">│</span> <span style=\"color: #800000; text-decoration-color: #800000\">❱ </span>3 image = zoe_depth(image,                                                                     <span style=\"color: #800000; text-decoration-color: #800000\">│</span>\n",
       "<span style=\"color: #800000; text-decoration-color: #800000\">│</span>   <span style=\"color: #7f7f7f; text-decoration-color: #7f7f7f\">4 </span><span style=\"color: #7f7f7f; text-decoration-color: #7f7f7f\">│   │   │   │     </span>gamma_corrected=<span style=\"color: #0000ff; text-decoration-color: #0000ff\">True</span>,                                                      <span style=\"color: #800000; text-decoration-color: #800000\">│</span>\n",
       "<span style=\"color: #800000; text-decoration-color: #800000\">│</span>   <span style=\"color: #7f7f7f; text-decoration-color: #7f7f7f\">5 </span><span style=\"color: #7f7f7f; text-decoration-color: #7f7f7f\">│   │   │   │     </span>detect_resolution=<span style=\"color: #0000ff; text-decoration-color: #0000ff\">512</span>,                                                     <span style=\"color: #800000; text-decoration-color: #800000\">│</span>\n",
       "<span style=\"color: #800000; text-decoration-color: #800000\">│</span>   <span style=\"color: #7f7f7f; text-decoration-color: #7f7f7f\">6 </span><span style=\"color: #7f7f7f; text-decoration-color: #7f7f7f\">│   │   │   │     </span>image_resolution=<span style=\"color: #0000ff; text-decoration-color: #0000ff\">1024</span>)                                                     <span style=\"color: #800000; text-decoration-color: #800000\">│</span>\n",
       "<span style=\"color: #800000; text-decoration-color: #800000\">╰──────────────────────────────────────────────────────────────────────────────────────────────────╯</span>\n",
       "<span style=\"color: #ff0000; text-decoration-color: #ff0000; font-weight: bold\">NameError: </span>name <span style=\"color: #008000; text-decoration-color: #008000\">'zoe_depth'</span> is not defined\n",
       "</pre>\n"
      ],
      "text/plain": [
       "\u001b[31m╭─\u001b[0m\u001b[31m──────────────────────────────\u001b[0m\u001b[31m \u001b[0m\u001b[1;31mTraceback \u001b[0m\u001b[1;2;31m(most recent call last)\u001b[0m\u001b[31m \u001b[0m\u001b[31m───────────────────────────────\u001b[0m\u001b[31m─╮\u001b[0m\n",
       "\u001b[31m│\u001b[0m in \u001b[92m<module>\u001b[0m:\u001b[94m3\u001b[0m                                                                                    \u001b[31m│\u001b[0m\n",
       "\u001b[31m│\u001b[0m                                                                                                  \u001b[31m│\u001b[0m\n",
       "\u001b[31m│\u001b[0m   \u001b[2m1 \u001b[0murl = \u001b[33m\"\u001b[0m\u001b[33mhttps://huggingface.co/Adapter/t2iadapter/resolve/main/figs_SDXLV1.0/org_zeo.jpg\u001b[0m\u001b[33m\"\u001b[0m     \u001b[31m│\u001b[0m\n",
       "\u001b[31m│\u001b[0m   \u001b[2m2 \u001b[0mimage = load_image(url)                                                                      \u001b[31m│\u001b[0m\n",
       "\u001b[31m│\u001b[0m \u001b[31m❱ \u001b[0m3 image = zoe_depth(image,                                                                     \u001b[31m│\u001b[0m\n",
       "\u001b[31m│\u001b[0m   \u001b[2m4 \u001b[0m\u001b[2m│   │   │   │     \u001b[0mgamma_corrected=\u001b[94mTrue\u001b[0m,                                                      \u001b[31m│\u001b[0m\n",
       "\u001b[31m│\u001b[0m   \u001b[2m5 \u001b[0m\u001b[2m│   │   │   │     \u001b[0mdetect_resolution=\u001b[94m512\u001b[0m,                                                     \u001b[31m│\u001b[0m\n",
       "\u001b[31m│\u001b[0m   \u001b[2m6 \u001b[0m\u001b[2m│   │   │   │     \u001b[0mimage_resolution=\u001b[94m1024\u001b[0m)                                                     \u001b[31m│\u001b[0m\n",
       "\u001b[31m╰──────────────────────────────────────────────────────────────────────────────────────────────────╯\u001b[0m\n",
       "\u001b[1;91mNameError: \u001b[0mname \u001b[32m'zoe_depth'\u001b[0m is not defined\n"
      ]
     },
     "metadata": {},
     "output_type": "display_data"
    }
   ],
   "source": [
    "url = \"https://huggingface.co/Adapter/t2iadapter/resolve/main/figs_SDXLV1.0/org_zeo.jpg\"\n",
    "image = load_image(url)\n",
    "image = zoe_depth(image, \n",
    "                  gamma_corrected=True,\n",
    "                  detect_resolution=512, \n",
    "                  image_resolution=1024)"
   ]
  },
  {
   "cell_type": "markdown",
   "metadata": {},
   "source": [
    "### Generate images"
   ]
  },
  {
   "cell_type": "code",
   "execution_count": 38,
   "metadata": {},
   "outputs": [
    {
     "data": {
      "application/vnd.jupyter.widget-view+json": {
       "model_id": "1aef3ca9c39b4c4bbc2082cf3edddec5",
       "version_major": 2,
       "version_minor": 0
      },
      "text/plain": [
       "  0%|          | 0/30 [00:00<?, ?it/s]"
      ]
     },
     "metadata": {},
     "output_type": "display_data"
    }
   ],
   "source": [
    "prompt = \"A photo of a orchid, 4k photo, highly detailed\"\n",
    "negative_prompt = \"anime, cartoon, graphic, text, painting, crayon, graphite, abstract, glitch, deformed, mutated, ugly, disfigured\"\n",
    "\n",
    "gen_images = pipe(\n",
    "  prompt=prompt,\n",
    "  negative_prompt=negative_prompt,\n",
    "  image=image,\n",
    "  num_inference_steps=30,\n",
    "  adapter_conditioning_scale=1,\n",
    "  guidance_scale=7.5,  \n",
    ").images[0]\n",
    "gen_images.save('out_zoe.png')"
   ]
  },
  {
   "cell_type": "code",
   "execution_count": null,
   "metadata": {},
   "outputs": [],
   "source": []
  },
  {
   "cell_type": "code",
   "execution_count": null,
   "metadata": {},
   "outputs": [],
   "source": []
  }
 ],
 "metadata": {
  "kernelspec": {
   "display_name": "a",
   "language": "python",
   "name": "python3"
  },
  "language_info": {
   "codemirror_mode": {
    "name": "ipython",
    "version": 3
   },
   "file_extension": ".py",
   "mimetype": "text/x-python",
   "name": "python",
   "nbconvert_exporter": "python",
   "pygments_lexer": "ipython3",
   "version": "3.10.12"
  },
  "orig_nbformat": 4
 },
 "nbformat": 4,
 "nbformat_minor": 2
}
